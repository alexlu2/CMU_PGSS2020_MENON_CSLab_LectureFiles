{
  "nbformat": 4,
  "nbformat_minor": 0,
  "metadata": {
    "colab": {
      "name": "TrainAndTestARandomForestModel.ipynb",
      "provenance": [],
      "collapsed_sections": [],
      "toc_visible": true
    },
    "kernelspec": {
      "name": "python3",
      "display_name": "Python 3"
    }
  },
  "cells": [
    {
      "cell_type": "markdown",
      "metadata": {
        "id": "vDeOdUUTBwOs",
        "colab_type": "text"
      },
      "source": [
        "# Load in the data"
      ]
    },
    {
      "cell_type": "code",
      "metadata": {
        "id": "01nP2NSlBmQR",
        "colab_type": "code",
        "colab": {}
      },
      "source": [
        "import pandas as pd\n",
        "IrisFromUCI = pd.read_csv('https://archive.ics.uci.edu/ml/machine-learning-databases/iris/iris.data', header=None)\n",
        "IrisFromUCI.columns = ['SepalLength','SepalWidth','PetalLength','PetalWidth','Species']\n",
        "IrisFromUCI.to_csv('IrisFromUCI.csv')"
      ],
      "execution_count": 2,
      "outputs": []
    },
    {
      "cell_type": "markdown",
      "metadata": {
        "id": "IVs5hORDCT50",
        "colab_type": "text"
      },
      "source": [
        "# Lets split our data into training and test portions"
      ]
    },
    {
      "cell_type": "code",
      "metadata": {
        "id": "E02LQHFyBmcx",
        "colab_type": "code",
        "colab": {}
      },
      "source": [
        "from sklearn.model_selection import train_test_split #to split data\n",
        "\n",
        "X=IrisFromUCI[['SepalLength','SepalWidth','PetalLength','PetalWidth']]  # Features\n",
        "y=IrisFromUCI['Species']  # Labels\n",
        "\n",
        "X_train, X_test, y_train, y_test = train_test_split(X, y, test_size=0.4) # 60% training and 40% test"
      ],
      "execution_count": 29,
      "outputs": []
    },
    {
      "cell_type": "code",
      "metadata": {
        "id": "PwK2eZe-Cfog",
        "colab_type": "code",
        "colab": {
          "base_uri": "https://localhost:8080/",
          "height": 121
        },
        "outputId": "dba8e701-cd16-45ff-dee8-227679e69703"
      },
      "source": [
        "y_train.head()"
      ],
      "execution_count": 30,
      "outputs": [
        {
          "output_type": "execute_result",
          "data": {
            "text/plain": [
              "26         Iris-setosa\n",
              "141     Iris-virginica\n",
              "9          Iris-setosa\n",
              "99     Iris-versicolor\n",
              "97     Iris-versicolor\n",
              "Name: Species, dtype: object"
            ]
          },
          "metadata": {
            "tags": []
          },
          "execution_count": 30
        }
      ]
    },
    {
      "cell_type": "markdown",
      "metadata": {
        "id": "LKORW6suFx19",
        "colab_type": "text"
      },
      "source": [
        "# Train a model - Random Forest"
      ]
    },
    {
      "cell_type": "code",
      "metadata": {
        "id": "yd0ZiUTqClJo",
        "colab_type": "code",
        "colab": {}
      },
      "source": [
        "#Import Random Forest Model\n",
        "from sklearn.ensemble import RandomForestClassifier\n",
        "\n",
        "#Create a Gaussian Classifier\n",
        "clf=RandomForestClassifier(n_estimators=100)\n",
        "\n",
        "#Train the model using the training sets                     \n",
        "clf.fit(X_train,y_train)\n",
        "\n",
        "y_pred=clf.predict(X_test)"
      ],
      "execution_count": 31,
      "outputs": []
    },
    {
      "cell_type": "markdown",
      "metadata": {
        "id": "YkR_zRrMF1zq",
        "colab_type": "text"
      },
      "source": [
        "# Evaluate the model"
      ]
    },
    {
      "cell_type": "code",
      "metadata": {
        "id": "m9ib4i7JEE5p",
        "colab_type": "code",
        "colab": {
          "base_uri": "https://localhost:8080/",
          "height": 35
        },
        "outputId": "c96824c8-0ed2-49ef-e0c1-9be9dc7092bd"
      },
      "source": [
        "#Import scikit-learn metrics module for accuracy calculation\n",
        "from sklearn import metrics\n",
        "# Model Accuracy, how often is the classifier correct?\n",
        "print(\"Accuracy:\",metrics.accuracy_score(y_test, y_pred))"
      ],
      "execution_count": 32,
      "outputs": [
        {
          "output_type": "stream",
          "text": [
            "Accuracy: 0.9333333333333333\n"
          ],
          "name": "stdout"
        }
      ]
    },
    {
      "cell_type": "markdown",
      "metadata": {
        "id": "cwdl9e5NF4En",
        "colab_type": "text"
      },
      "source": [
        "# Testing the model on a new record of our creation"
      ]
    },
    {
      "cell_type": "code",
      "metadata": {
        "id": "xvXyFQhjEN9m",
        "colab_type": "code",
        "colab": {
          "base_uri": "https://localhost:8080/",
          "height": 35
        },
        "outputId": "9f03e97f-1a58-4b5a-8d59-7a3ff26b222c"
      },
      "source": [
        "species_idx = clf.predict([[5.8\t,2.6,\t4.0,\t1.2]])[0]\n",
        "species_idx"
      ],
      "execution_count": 33,
      "outputs": [
        {
          "output_type": "execute_result",
          "data": {
            "application/vnd.google.colaboratory.intrinsic": {
              "type": "string"
            },
            "text/plain": [
              "'Iris-versicolor'"
            ]
          },
          "metadata": {
            "tags": []
          },
          "execution_count": 33
        }
      ]
    },
    {
      "cell_type": "markdown",
      "metadata": {
        "id": "iLrEFtfwF7EI",
        "colab_type": "text"
      },
      "source": [
        "# Lets see what drives the model's decision making abilities"
      ]
    },
    {
      "cell_type": "code",
      "metadata": {
        "id": "4f70-1LyElbJ",
        "colab_type": "code",
        "colab": {
          "base_uri": "https://localhost:8080/",
          "height": 104
        },
        "outputId": "cf95c101-8b48-4f5d-cde0-18fb6346b739"
      },
      "source": [
        "import pandas as pd\n",
        "feature_imp = pd.Series(clf.feature_importances_, index=['SepalLength','SepalWidth','PetalLength','PetalWidth']).sort_values(ascending=False)\n",
        "feature_imp"
      ],
      "execution_count": 34,
      "outputs": [
        {
          "output_type": "execute_result",
          "data": {
            "text/plain": [
              "PetalWidth     0.459102\n",
              "PetalLength    0.443750\n",
              "SepalLength    0.081930\n",
              "SepalWidth     0.015218\n",
              "dtype: float64"
            ]
          },
          "metadata": {
            "tags": []
          },
          "execution_count": 34
        }
      ]
    },
    {
      "cell_type": "code",
      "metadata": {
        "id": "lwxwzO-6FDUV",
        "colab_type": "code",
        "colab": {}
      },
      "source": [
        ""
      ],
      "execution_count": 34,
      "outputs": []
    }
  ]
}