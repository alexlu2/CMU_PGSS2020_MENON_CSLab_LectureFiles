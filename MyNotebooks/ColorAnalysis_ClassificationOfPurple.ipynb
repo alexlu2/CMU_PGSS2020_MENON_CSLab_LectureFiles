{
  "nbformat": 4,
  "nbformat_minor": 0,
  "metadata": {
    "colab": {
      "name": "ColorAnalysis_ClassificationOfPurple.ipynb",
      "provenance": [],
      "collapsed_sections": []
    },
    "kernelspec": {
      "name": "python3",
      "display_name": "Python 3"
    }
  },
  "cells": [
    {
      "cell_type": "markdown",
      "metadata": {
        "id": "kJmb0cMd6lgg",
        "colab_type": "text"
      },
      "source": [
        "# Acquire data from Google Sheets"
      ]
    },
    {
      "cell_type": "code",
      "metadata": {
        "id": "Lnw5LGeH6ZFD",
        "colab_type": "code",
        "colab": {}
      },
      "source": [
        "from google.colab import auth\n",
        "auth.authenticate_user()\n",
        "import gspread\n",
        "from oauth2client.client import GoogleCredentials\n",
        "gc = gspread.authorize(GoogleCredentials.get_application_default())"
      ],
      "execution_count": 1,
      "outputs": []
    },
    {
      "cell_type": "code",
      "metadata": {
        "id": "_5__u6ff6qqT",
        "colab_type": "code",
        "colab": {}
      },
      "source": [
        "import pandas as pd\n",
        "wb = gc.open_by_url('https://docs.google.com/spreadsheets/d/1t8YQOowjGDmUWrSXIpCA0-O09NT5a3RHCyzSzWJQDEo/edit?usp=sharing') # 'https://docs.google.com/spreadsheets/d/1YgjesgjYJh315Kj823ddOlSBEr1bf3AMfDaN3c34_PU/edit?usp=sharing')\n",
        "sheet = wb.worksheet('Sheet1')\n",
        "# Now that we have the tab specified it’s time to get the data. To do this we will just call the get_all_values() function off of the sheet object we created above:\n",
        "data = sheet.get_all_values()\n",
        "\n",
        "df = pd.DataFrame(data[1:])\n",
        "df.columns = data[0]"
      ],
      "execution_count": 32,
      "outputs": []
    },
    {
      "cell_type": "code",
      "metadata": {
        "id": "uSeZ37Go627p",
        "colab_type": "code",
        "colab": {}
      },
      "source": [
        "import numpy as np\n",
        "df[df==''] = np.nan\n",
        "df = df.drop('Red', axis=1)\n",
        "df = df.dropna(axis=0)\n",
        "df.to_csv('PurpleColorConstituentsSurveyData.csv', index=None)"
      ],
      "execution_count": 33,
      "outputs": []
    },
    {
      "cell_type": "markdown",
      "metadata": {
        "id": "BHFXqjII7SgC",
        "colab_type": "text"
      },
      "source": [
        "# Read the cleaned data back into a pandas data frame"
      ]
    },
    {
      "cell_type": "code",
      "metadata": {
        "id": "P-XWOlzY7MTo",
        "colab_type": "code",
        "colab": {
          "base_uri": "https://localhost:8080/",
          "height": 1000
        },
        "outputId": "814eca34-fe76-4ef0-f764-17dbe0ca61cb"
      },
      "source": [
        "myData = pd.read_csv('PurpleColorConstituentsSurveyData.csv')\n",
        "myData"
      ],
      "execution_count": 34,
      "outputs": [
        {
          "output_type": "execute_result",
          "data": {
            "text/html": [
              "<div>\n",
              "<style scoped>\n",
              "    .dataframe tbody tr th:only-of-type {\n",
              "        vertical-align: middle;\n",
              "    }\n",
              "\n",
              "    .dataframe tbody tr th {\n",
              "        vertical-align: top;\n",
              "    }\n",
              "\n",
              "    .dataframe thead th {\n",
              "        text-align: right;\n",
              "    }\n",
              "</style>\n",
              "<table border=\"1\" class=\"dataframe\">\n",
              "  <thead>\n",
              "    <tr style=\"text-align: right;\">\n",
              "      <th></th>\n",
              "      <th>Blue</th>\n",
              "      <th>Green</th>\n",
              "      <th>Purple</th>\n",
              "      <th>Date</th>\n",
              "    </tr>\n",
              "  </thead>\n",
              "  <tbody>\n",
              "    <tr>\n",
              "      <th>0</th>\n",
              "      <td>36</td>\n",
              "      <td>178</td>\n",
              "      <td>0</td>\n",
              "      <td>2020-07-09 11:51:47</td>\n",
              "    </tr>\n",
              "    <tr>\n",
              "      <th>1</th>\n",
              "      <td>194</td>\n",
              "      <td>1</td>\n",
              "      <td>0</td>\n",
              "      <td>2020-07-09 12:05:35</td>\n",
              "    </tr>\n",
              "    <tr>\n",
              "      <th>2</th>\n",
              "      <td>252</td>\n",
              "      <td>164</td>\n",
              "      <td>0</td>\n",
              "      <td>2020-07-09 12:08:42</td>\n",
              "    </tr>\n",
              "    <tr>\n",
              "      <th>3</th>\n",
              "      <td>137</td>\n",
              "      <td>164</td>\n",
              "      <td>0</td>\n",
              "      <td>2020-07-09 12:10:43</td>\n",
              "    </tr>\n",
              "    <tr>\n",
              "      <th>4</th>\n",
              "      <td>147</td>\n",
              "      <td>79</td>\n",
              "      <td>1</td>\n",
              "      <td>2020-07-09 12:11:32</td>\n",
              "    </tr>\n",
              "    <tr>\n",
              "      <th>5</th>\n",
              "      <td>29</td>\n",
              "      <td>216</td>\n",
              "      <td>0</td>\n",
              "      <td>2020-07-09 12:18:23</td>\n",
              "    </tr>\n",
              "    <tr>\n",
              "      <th>6</th>\n",
              "      <td>168</td>\n",
              "      <td>85</td>\n",
              "      <td>1</td>\n",
              "      <td>2020-07-09 12:23:26</td>\n",
              "    </tr>\n",
              "    <tr>\n",
              "      <th>7</th>\n",
              "      <td>171</td>\n",
              "      <td>96</td>\n",
              "      <td>1</td>\n",
              "      <td>2020-07-09 12:25:54</td>\n",
              "    </tr>\n",
              "    <tr>\n",
              "      <th>8</th>\n",
              "      <td>46</td>\n",
              "      <td>217</td>\n",
              "      <td>0</td>\n",
              "      <td>2020-07-09 12:26:20</td>\n",
              "    </tr>\n",
              "    <tr>\n",
              "      <th>9</th>\n",
              "      <td>166</td>\n",
              "      <td>59</td>\n",
              "      <td>0</td>\n",
              "      <td>2020-07-09 12:26:45</td>\n",
              "    </tr>\n",
              "    <tr>\n",
              "      <th>10</th>\n",
              "      <td>120</td>\n",
              "      <td>252</td>\n",
              "      <td>0</td>\n",
              "      <td>2020-07-09 12:28:35</td>\n",
              "    </tr>\n",
              "    <tr>\n",
              "      <th>11</th>\n",
              "      <td>185</td>\n",
              "      <td>127</td>\n",
              "      <td>1</td>\n",
              "      <td>2020-07-09 13:31:49</td>\n",
              "    </tr>\n",
              "    <tr>\n",
              "      <th>12</th>\n",
              "      <td>140</td>\n",
              "      <td>242</td>\n",
              "      <td>0</td>\n",
              "      <td>2020-07-14 14:55:47</td>\n",
              "    </tr>\n",
              "    <tr>\n",
              "      <th>13</th>\n",
              "      <td>254</td>\n",
              "      <td>142</td>\n",
              "      <td>1</td>\n",
              "      <td>2020-07-14 14:57:01</td>\n",
              "    </tr>\n",
              "    <tr>\n",
              "      <th>14</th>\n",
              "      <td>6</td>\n",
              "      <td>16</td>\n",
              "      <td>0</td>\n",
              "      <td>2020-07-14 14:57:14</td>\n",
              "    </tr>\n",
              "    <tr>\n",
              "      <th>15</th>\n",
              "      <td>59</td>\n",
              "      <td>164</td>\n",
              "      <td>0</td>\n",
              "      <td>2020-07-14 14:57:47</td>\n",
              "    </tr>\n",
              "    <tr>\n",
              "      <th>16</th>\n",
              "      <td>105</td>\n",
              "      <td>120</td>\n",
              "      <td>0</td>\n",
              "      <td>2020-07-14 14:59:25</td>\n",
              "    </tr>\n",
              "    <tr>\n",
              "      <th>17</th>\n",
              "      <td>28</td>\n",
              "      <td>108</td>\n",
              "      <td>0</td>\n",
              "      <td>2020-07-14 14:59:48</td>\n",
              "    </tr>\n",
              "    <tr>\n",
              "      <th>18</th>\n",
              "      <td>21</td>\n",
              "      <td>119</td>\n",
              "      <td>0</td>\n",
              "      <td>2020-07-14 15:00:45</td>\n",
              "    </tr>\n",
              "    <tr>\n",
              "      <th>19</th>\n",
              "      <td>109</td>\n",
              "      <td>51</td>\n",
              "      <td>1</td>\n",
              "      <td>2020-07-14 15:01:08</td>\n",
              "    </tr>\n",
              "    <tr>\n",
              "      <th>20</th>\n",
              "      <td>219</td>\n",
              "      <td>63</td>\n",
              "      <td>1</td>\n",
              "      <td>2020-07-14 15:01:09</td>\n",
              "    </tr>\n",
              "    <tr>\n",
              "      <th>21</th>\n",
              "      <td>26</td>\n",
              "      <td>142</td>\n",
              "      <td>0</td>\n",
              "      <td>2020-07-14 15:01:19</td>\n",
              "    </tr>\n",
              "    <tr>\n",
              "      <th>22</th>\n",
              "      <td>226</td>\n",
              "      <td>186</td>\n",
              "      <td>0</td>\n",
              "      <td>2020-07-14 15:01:53</td>\n",
              "    </tr>\n",
              "    <tr>\n",
              "      <th>23</th>\n",
              "      <td>127</td>\n",
              "      <td>112</td>\n",
              "      <td>0</td>\n",
              "      <td>2020-07-14 15:02:01</td>\n",
              "    </tr>\n",
              "    <tr>\n",
              "      <th>24</th>\n",
              "      <td>199</td>\n",
              "      <td>242</td>\n",
              "      <td>0</td>\n",
              "      <td>2020-07-14 15:02:12</td>\n",
              "    </tr>\n",
              "    <tr>\n",
              "      <th>25</th>\n",
              "      <td>198</td>\n",
              "      <td>171</td>\n",
              "      <td>1</td>\n",
              "      <td>2020-07-14 15:02:16</td>\n",
              "    </tr>\n",
              "    <tr>\n",
              "      <th>26</th>\n",
              "      <td>133</td>\n",
              "      <td>73</td>\n",
              "      <td>0</td>\n",
              "      <td>2020-07-14 15:02:19</td>\n",
              "    </tr>\n",
              "    <tr>\n",
              "      <th>27</th>\n",
              "      <td>77</td>\n",
              "      <td>103</td>\n",
              "      <td>0</td>\n",
              "      <td>2020-07-14 15:03:49</td>\n",
              "    </tr>\n",
              "    <tr>\n",
              "      <th>28</th>\n",
              "      <td>3</td>\n",
              "      <td>255</td>\n",
              "      <td>0</td>\n",
              "      <td>2020-07-14 15:04:03</td>\n",
              "    </tr>\n",
              "    <tr>\n",
              "      <th>29</th>\n",
              "      <td>96</td>\n",
              "      <td>44</td>\n",
              "      <td>1</td>\n",
              "      <td>2020-07-14 15:04:08</td>\n",
              "    </tr>\n",
              "    <tr>\n",
              "      <th>30</th>\n",
              "      <td>33</td>\n",
              "      <td>189</td>\n",
              "      <td>0</td>\n",
              "      <td>2020-07-14 15:05:45</td>\n",
              "    </tr>\n",
              "    <tr>\n",
              "      <th>31</th>\n",
              "      <td>47</td>\n",
              "      <td>249</td>\n",
              "      <td>0</td>\n",
              "      <td>2020-07-14 15:05:45</td>\n",
              "    </tr>\n",
              "    <tr>\n",
              "      <th>32</th>\n",
              "      <td>72</td>\n",
              "      <td>95</td>\n",
              "      <td>0</td>\n",
              "      <td>2020-07-14 15:05:52</td>\n",
              "    </tr>\n",
              "    <tr>\n",
              "      <th>33</th>\n",
              "      <td>114</td>\n",
              "      <td>233</td>\n",
              "      <td>0</td>\n",
              "      <td>2020-07-14 15:06:03</td>\n",
              "    </tr>\n",
              "    <tr>\n",
              "      <th>34</th>\n",
              "      <td>40</td>\n",
              "      <td>229</td>\n",
              "      <td>0</td>\n",
              "      <td>2020-07-14 15:06:05</td>\n",
              "    </tr>\n",
              "    <tr>\n",
              "      <th>35</th>\n",
              "      <td>27</td>\n",
              "      <td>243</td>\n",
              "      <td>1</td>\n",
              "      <td>2020-07-14 15:06:35</td>\n",
              "    </tr>\n",
              "    <tr>\n",
              "      <th>36</th>\n",
              "      <td>215</td>\n",
              "      <td>93</td>\n",
              "      <td>0</td>\n",
              "      <td>2020-07-14 15:06:37</td>\n",
              "    </tr>\n",
              "    <tr>\n",
              "      <th>37</th>\n",
              "      <td>180</td>\n",
              "      <td>208</td>\n",
              "      <td>0</td>\n",
              "      <td>2020-07-14 15:06:54</td>\n",
              "    </tr>\n",
              "    <tr>\n",
              "      <th>38</th>\n",
              "      <td>180</td>\n",
              "      <td>121</td>\n",
              "      <td>0</td>\n",
              "      <td>2020-07-14 15:07:02</td>\n",
              "    </tr>\n",
              "    <tr>\n",
              "      <th>39</th>\n",
              "      <td>70</td>\n",
              "      <td>209</td>\n",
              "      <td>0</td>\n",
              "      <td>2020-07-14 15:07:22</td>\n",
              "    </tr>\n",
              "    <tr>\n",
              "      <th>40</th>\n",
              "      <td>195</td>\n",
              "      <td>141</td>\n",
              "      <td>1</td>\n",
              "      <td>2020-07-14 15:07:34</td>\n",
              "    </tr>\n",
              "    <tr>\n",
              "      <th>41</th>\n",
              "      <td>219</td>\n",
              "      <td>185</td>\n",
              "      <td>0</td>\n",
              "      <td>2020-07-14 15:08:24</td>\n",
              "    </tr>\n",
              "    <tr>\n",
              "      <th>42</th>\n",
              "      <td>215</td>\n",
              "      <td>93</td>\n",
              "      <td>0</td>\n",
              "      <td>2020-07-14 15:08:55</td>\n",
              "    </tr>\n",
              "    <tr>\n",
              "      <th>43</th>\n",
              "      <td>33</td>\n",
              "      <td>189</td>\n",
              "      <td>0</td>\n",
              "      <td>2020-07-14 15:15:26</td>\n",
              "    </tr>\n",
              "    <tr>\n",
              "      <th>44</th>\n",
              "      <td>156</td>\n",
              "      <td>90</td>\n",
              "      <td>0</td>\n",
              "      <td>2020-07-14 15:15:26</td>\n",
              "    </tr>\n",
              "    <tr>\n",
              "      <th>45</th>\n",
              "      <td>122</td>\n",
              "      <td>184</td>\n",
              "      <td>0</td>\n",
              "      <td>2020-07-14 15:15:47</td>\n",
              "    </tr>\n",
              "    <tr>\n",
              "      <th>46</th>\n",
              "      <td>156</td>\n",
              "      <td>90</td>\n",
              "      <td>0</td>\n",
              "      <td>2020-07-14 15:15:54</td>\n",
              "    </tr>\n",
              "    <tr>\n",
              "      <th>47</th>\n",
              "      <td>178</td>\n",
              "      <td>5</td>\n",
              "      <td>1</td>\n",
              "      <td>2020-07-14 15:22:16</td>\n",
              "    </tr>\n",
              "    <tr>\n",
              "      <th>48</th>\n",
              "      <td>82</td>\n",
              "      <td>216</td>\n",
              "      <td>0</td>\n",
              "      <td>2020-07-14 15:22:20</td>\n",
              "    </tr>\n",
              "    <tr>\n",
              "      <th>49</th>\n",
              "      <td>240</td>\n",
              "      <td>6</td>\n",
              "      <td>1</td>\n",
              "      <td>2020-07-14 15:22:50</td>\n",
              "    </tr>\n",
              "  </tbody>\n",
              "</table>\n",
              "</div>"
            ],
            "text/plain": [
              "    Blue  Green  Purple                 Date\n",
              "0     36    178       0  2020-07-09 11:51:47\n",
              "1    194      1       0  2020-07-09 12:05:35\n",
              "2    252    164       0  2020-07-09 12:08:42\n",
              "3    137    164       0  2020-07-09 12:10:43\n",
              "4    147     79       1  2020-07-09 12:11:32\n",
              "5     29    216       0  2020-07-09 12:18:23\n",
              "6    168     85       1  2020-07-09 12:23:26\n",
              "7    171     96       1  2020-07-09 12:25:54\n",
              "8     46    217       0  2020-07-09 12:26:20\n",
              "9    166     59       0  2020-07-09 12:26:45\n",
              "10   120    252       0  2020-07-09 12:28:35\n",
              "11   185    127       1  2020-07-09 13:31:49\n",
              "12   140    242       0  2020-07-14 14:55:47\n",
              "13   254    142       1  2020-07-14 14:57:01\n",
              "14     6     16       0  2020-07-14 14:57:14\n",
              "15    59    164       0  2020-07-14 14:57:47\n",
              "16   105    120       0  2020-07-14 14:59:25\n",
              "17    28    108       0  2020-07-14 14:59:48\n",
              "18    21    119       0  2020-07-14 15:00:45\n",
              "19   109     51       1  2020-07-14 15:01:08\n",
              "20   219     63       1  2020-07-14 15:01:09\n",
              "21    26    142       0  2020-07-14 15:01:19\n",
              "22   226    186       0  2020-07-14 15:01:53\n",
              "23   127    112       0  2020-07-14 15:02:01\n",
              "24   199    242       0  2020-07-14 15:02:12\n",
              "25   198    171       1  2020-07-14 15:02:16\n",
              "26   133     73       0  2020-07-14 15:02:19\n",
              "27    77    103       0  2020-07-14 15:03:49\n",
              "28     3    255       0  2020-07-14 15:04:03\n",
              "29    96     44       1  2020-07-14 15:04:08\n",
              "30    33    189       0  2020-07-14 15:05:45\n",
              "31    47    249       0  2020-07-14 15:05:45\n",
              "32    72     95       0  2020-07-14 15:05:52\n",
              "33   114    233       0  2020-07-14 15:06:03\n",
              "34    40    229       0  2020-07-14 15:06:05\n",
              "35    27    243       1  2020-07-14 15:06:35\n",
              "36   215     93       0  2020-07-14 15:06:37\n",
              "37   180    208       0  2020-07-14 15:06:54\n",
              "38   180    121       0  2020-07-14 15:07:02\n",
              "39    70    209       0  2020-07-14 15:07:22\n",
              "40   195    141       1  2020-07-14 15:07:34\n",
              "41   219    185       0  2020-07-14 15:08:24\n",
              "42   215     93       0  2020-07-14 15:08:55\n",
              "43    33    189       0  2020-07-14 15:15:26\n",
              "44   156     90       0  2020-07-14 15:15:26\n",
              "45   122    184       0  2020-07-14 15:15:47\n",
              "46   156     90       0  2020-07-14 15:15:54\n",
              "47   178      5       1  2020-07-14 15:22:16\n",
              "48    82    216       0  2020-07-14 15:22:20\n",
              "49   240      6       1  2020-07-14 15:22:50"
            ]
          },
          "metadata": {
            "tags": []
          },
          "execution_count": 34
        }
      ]
    },
    {
      "cell_type": "markdown",
      "metadata": {
        "id": "q92CK6ZWBRIV",
        "colab_type": "text"
      },
      "source": [
        "# Sklearn Logistic Regression model"
      ]
    },
    {
      "cell_type": "code",
      "metadata": {
        "id": "lLkxXT_k7adh",
        "colab_type": "code",
        "colab": {
          "base_uri": "https://localhost:8080/",
          "height": 35
        },
        "outputId": "fb4227d9-648f-4e48-9301-36b00105f3ff"
      },
      "source": [
        "from sklearn.linear_model import LogisticRegression \n",
        "from sklearn import metrics\n",
        "\n",
        "\n",
        "X=myData[['Green', 'Blue']]  # Features\n",
        "y=myData['Purple']  # Labels\n",
        "\n",
        "myModel = LogisticRegression()\n",
        "myModel.fit(X,y)\n",
        "\n",
        "y_pred = myModel.predict([[200, 100]])[0]\n",
        "y_pred"
      ],
      "execution_count": 35,
      "outputs": [
        {
          "output_type": "execute_result",
          "data": {
            "text/plain": [
              "0"
            ]
          },
          "metadata": {
            "tags": []
          },
          "execution_count": 35
        }
      ]
    },
    {
      "cell_type": "code",
      "metadata": {
        "id": "k43dJ4zdADGK",
        "colab_type": "code",
        "colab": {
          "base_uri": "https://localhost:8080/",
          "height": 69
        },
        "outputId": "cc4f5341-a646-411e-a16f-123f676165be"
      },
      "source": [
        "y_pred = myModel.predict(X)\n",
        "y_pred"
      ],
      "execution_count": 36,
      "outputs": [
        {
          "output_type": "execute_result",
          "data": {
            "text/plain": [
              "array([0, 1, 0, 0, 0, 0, 0, 0, 0, 0, 0, 0, 0, 0, 0, 0, 0, 0, 0, 0, 1, 0,\n",
              "       0, 0, 0, 0, 0, 0, 0, 0, 0, 0, 0, 0, 0, 0, 1, 0, 0, 0, 0, 0, 1, 0,\n",
              "       0, 0, 0, 1, 0, 1])"
            ]
          },
          "metadata": {
            "tags": []
          },
          "execution_count": 36
        }
      ]
    },
    {
      "cell_type": "code",
      "metadata": {
        "id": "Vf4ddJ44AXdL",
        "colab_type": "code",
        "colab": {
          "base_uri": "https://localhost:8080/",
          "height": 52
        },
        "outputId": "3c799432-10ec-4524-e78c-c9d9208bfd36"
      },
      "source": [
        "from sklearn.metrics import confusion_matrix\n",
        "confusion_matrix_0 = confusion_matrix (y, y_pred)\n",
        "confusion_matrix_0"
      ],
      "execution_count": 37,
      "outputs": [
        {
          "output_type": "execute_result",
          "data": {
            "text/plain": [
              "array([[34,  3],\n",
              "       [10,  3]])"
            ]
          },
          "metadata": {
            "tags": []
          },
          "execution_count": 37
        }
      ]
    },
    {
      "cell_type": "code",
      "metadata": {
        "id": "Mc1RsyuaAjBi",
        "colab_type": "code",
        "colab": {}
      },
      "source": [
        ""
      ],
      "execution_count": null,
      "outputs": []
    },
    {
      "cell_type": "markdown",
      "metadata": {
        "id": "sWOH8HEFBhuc",
        "colab_type": "text"
      },
      "source": [
        "# Lets try non-linear classification (kNN algorithm)"
      ]
    },
    {
      "cell_type": "code",
      "metadata": {
        "id": "Uw1Z19IgBkn9",
        "colab_type": "code",
        "colab": {
          "base_uri": "https://localhost:8080/",
          "height": 884
        },
        "outputId": "3193fd51-f58b-472d-d147-966c76773bc6"
      },
      "source": [
        "import csv\n",
        "import numpy as np\n",
        "colorScores = []\n",
        "with open('PurpleColorConstituentsSurveyData.csv', 'r') as f:\n",
        "    reader = csv.reader(f)\n",
        "    for row in reader:\n",
        "        colorScores.append(row)\n",
        "f.close()\n",
        "\n",
        "colorScores = colorScores[1:]\n",
        "colorScores"
      ],
      "execution_count": 38,
      "outputs": [
        {
          "output_type": "execute_result",
          "data": {
            "text/plain": [
              "[['36', '178', '0', '2020-07-09 11:51:47'],\n",
              " ['194', '1', '0', '2020-07-09 12:05:35'],\n",
              " ['252', '164', '0', '2020-07-09 12:08:42'],\n",
              " ['137', '164', '0', '2020-07-09 12:10:43'],\n",
              " ['147', '79', '1', '2020-07-09 12:11:32'],\n",
              " ['29', '216', '0', '2020-07-09 12:18:23'],\n",
              " ['168', '85', '1', '2020-07-09 12:23:26'],\n",
              " ['171', '96', '1', '2020-07-09 12:25:54'],\n",
              " ['46', '217', '0', '2020-07-09 12:26:20'],\n",
              " ['166', '59', '0', '2020-07-09 12:26:45'],\n",
              " ['120', '252', '0', '2020-07-09 12:28:35'],\n",
              " ['185', '127', '1', '2020-07-09 13:31:49'],\n",
              " ['140', '242', '0', '2020-07-14 14:55:47'],\n",
              " ['254', '142', '1', '2020-07-14 14:57:01'],\n",
              " ['6', '16', '0', '2020-07-14 14:57:14'],\n",
              " ['59', '164', '0', '2020-07-14 14:57:47'],\n",
              " ['105', '120', '0', '2020-07-14 14:59:25'],\n",
              " ['28', '108', '0', '2020-07-14 14:59:48'],\n",
              " ['21', '119', '0', '2020-07-14 15:00:45'],\n",
              " ['109', '51', '1', '2020-07-14 15:01:08'],\n",
              " ['219', '63', '1', '2020-07-14 15:01:09'],\n",
              " ['26', '142', '0', '2020-07-14 15:01:19'],\n",
              " ['226', '186', '0', '2020-07-14 15:01:53'],\n",
              " ['127', '112', '0', '2020-07-14 15:02:01'],\n",
              " ['199', '242', '0', '2020-07-14 15:02:12'],\n",
              " ['198', '171', '1', '2020-07-14 15:02:16'],\n",
              " ['133', '73', '0', '2020-07-14 15:02:19'],\n",
              " ['77', '103', '0', '2020-07-14 15:03:49'],\n",
              " ['3', '255', '0', '2020-07-14 15:04:03'],\n",
              " ['96', '44', '1', '2020-07-14 15:04:08'],\n",
              " ['33', '189', '0', '2020-07-14 15:05:45'],\n",
              " ['47', '249', '0', '2020-07-14 15:05:45'],\n",
              " ['72', '95', '0', '2020-07-14 15:05:52'],\n",
              " ['114', '233', '0', '2020-07-14 15:06:03'],\n",
              " ['40', '229', '0', '2020-07-14 15:06:05'],\n",
              " ['27', '243', '1', '2020-07-14 15:06:35'],\n",
              " ['215', '93', '0', '2020-07-14 15:06:37'],\n",
              " ['180', '208', '0', '2020-07-14 15:06:54'],\n",
              " ['180', '121', '0', '2020-07-14 15:07:02'],\n",
              " ['70', '209', '0', '2020-07-14 15:07:22'],\n",
              " ['195', '141', '1', '2020-07-14 15:07:34'],\n",
              " ['219', '185', '0', '2020-07-14 15:08:24'],\n",
              " ['215', '93', '0', '2020-07-14 15:08:55'],\n",
              " ['33', '189', '0', '2020-07-14 15:15:26'],\n",
              " ['156', '90', '0', '2020-07-14 15:15:26'],\n",
              " ['122', '184', '0', '2020-07-14 15:15:47'],\n",
              " ['156', '90', '0', '2020-07-14 15:15:54'],\n",
              " ['178', '5', '1', '2020-07-14 15:22:16'],\n",
              " ['82', '216', '0', '2020-07-14 15:22:20'],\n",
              " ['240', '6', '1', '2020-07-14 15:22:50']]"
            ]
          },
          "metadata": {
            "tags": []
          },
          "execution_count": 38
        }
      ]
    },
    {
      "cell_type": "code",
      "metadata": {
        "id": "9CRthlTsBpYh",
        "colab_type": "code",
        "colab": {
          "base_uri": "https://localhost:8080/",
          "height": 52
        },
        "outputId": "72676b09-157c-491b-aa37-9c28d64a1cdf"
      },
      "source": [
        "processedScores=[]\n",
        "for j in range(len(colorScores)):\n",
        "    processedScores.append([])\n",
        "    for i in range(len(colorScores[j])-1):\n",
        "        processedScores[j].append(int(colorScores[j][i]))\n",
        "finalScores = []\n",
        "for row in processedScores:\n",
        "    finalScores.append(np.asarray(row))\n",
        "    \n",
        "# red = int(input('enter the red value: '))\n",
        "green = int(input('enter the green value: '))\n",
        "blue = int(input('enter the blue value: '))\n",
        "\n",
        "    \n",
        "# inputColor = np.asarray([red,green,blue])\n",
        "inputColor = np.asarray([blue,green])\n"
      ],
      "execution_count": 70,
      "outputs": [
        {
          "output_type": "stream",
          "text": [
            "enter the green value: 10\n",
            "enter the blue value: 100\n"
          ],
          "name": "stdout"
        }
      ]
    },
    {
      "cell_type": "code",
      "metadata": {
        "id": "EZWIDRGCBu3Y",
        "colab_type": "code",
        "colab": {
          "base_uri": "https://localhost:8080/",
          "height": 52
        },
        "outputId": "89c859fa-cac8-47a5-c702-7c237a9a01a0"
      },
      "source": [
        "k=6\n",
        "\n",
        "distList = []\n",
        "for i in range(len(finalScores)):\n",
        "    dist = np.linalg.norm(inputColor-finalScores[i][0:2])\n",
        "    distList.append(dist)\n",
        "\n",
        "nearestNeighborsList = []\n",
        "for j in range(k):\n",
        "    nearestNeighborsList.append(distList.index(min(distList)))\n",
        "    distList.remove(min(distList))\n",
        "    \n",
        "total = 0\n",
        "for l in range(k):\n",
        "    total = total + finalScores[nearestNeighborsList[l]][2]\n",
        "\n",
        "average = total/k\n",
        "\n",
        "print(average)\n",
        "\n",
        "\n",
        "if average < 0.5:\n",
        "    print(\"probably not purple\")\n",
        "else:\n",
        "    print(\"probably purple\")"
      ],
      "execution_count": 71,
      "outputs": [
        {
          "output_type": "stream",
          "text": [
            "0.6666666666666666\n",
            "probably purple\n"
          ],
          "name": "stdout"
        }
      ]
    },
    {
      "cell_type": "code",
      "metadata": {
        "id": "FGjguhzbCO3p",
        "colab_type": "code",
        "colab": {
          "base_uri": "https://localhost:8080/",
          "height": 117
        },
        "outputId": "76f11c4a-60dc-42f7-a11e-7edd8bf4ef11"
      },
      "source": [
        "from colorsys import hsv_to_rgb\n",
        "from PIL import Image\n",
        "\n",
        "colors = []\n",
        "for hue in range(100):\n",
        "    for sat in range(100):\n",
        "        # Convert color from HSV to RGB\n",
        "        rgb = [100, inputColor[1], inputColor[0]]\n",
        "        colors.extend(rgb)\n",
        "\n",
        "im = Image.frombytes(\"RGB\", (100, 100), bytes(colors))\n",
        "im\n"
      ],
      "execution_count": 72,
      "outputs": [
        {
          "output_type": "execute_result",
          "data": {
            "image/png": "[encoded data removed]",
            "text/plain": [
              "<PIL.Image.Image image mode=RGB size=100x100 at 0x7FC231B71908>"
            ]
          },
          "metadata": {
            "tags": []
          },
          "execution_count": 72
        }
      ]
    },
    {
      "cell_type": "code",
      "metadata": {
        "id": "inWkmUK3Ck5B",
        "colab_type": "code",
        "colab": {
          "base_uri": "https://localhost:8080/",
          "height": 35
        },
        "outputId": "9af95c52-63c1-4e7b-d924-69390051ca70"
      },
      "source": [
        "myModel.predict([inputColor])[0]"
      ],
      "execution_count": 73,
      "outputs": [
        {
          "output_type": "execute_result",
          "data": {
            "text/plain": [
              "0"
            ]
          },
          "metadata": {
            "tags": []
          },
          "execution_count": 73
        }
      ]
    }
  ]
}